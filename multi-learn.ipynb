{
 "cells": [
  {
   "cell_type": "markdown",
   "metadata": {},
   "source": [
    "# Scikit MultiLearn"
   ]
  },
  {
   "cell_type": "markdown",
   "metadata": {},
   "source": [
    "## Part 1: Introduction and test"
   ]
  },
  {
   "cell_type": "code",
   "execution_count": 1,
   "metadata": {},
   "outputs": [],
   "source": [
    "from skmultilearn.dataset import load_dataset\n",
    "import pandas as pd\n",
    "import numpy as np"
   ]
  },
  {
   "cell_type": "code",
   "execution_count": 2,
   "metadata": {},
   "outputs": [
    {
     "name": "stdout",
     "output_type": "stream",
     "text": [
      "emotions:train - exists, not redownloading\n",
      "emotions:test - exists, not redownloading\n"
     ]
    }
   ],
   "source": [
    "X_train, y_train, feature_names, label_names = load_dataset('emotions', 'train')\n",
    "X_test, y_test, _, _ = load_dataset('emotions', 'test')"
   ]
  },
  {
   "cell_type": "markdown",
   "metadata": {},
   "source": [
    "**数据集**"
   ]
  },
  {
   "cell_type": "code",
   "execution_count": 3,
   "metadata": {},
   "outputs": [
    {
     "data": {
      "text/html": [
       "<div>\n",
       "<style scoped>\n",
       "    .dataframe tbody tr th:only-of-type {\n",
       "        vertical-align: middle;\n",
       "    }\n",
       "\n",
       "    .dataframe tbody tr th {\n",
       "        vertical-align: top;\n",
       "    }\n",
       "\n",
       "    .dataframe thead th {\n",
       "        text-align: right;\n",
       "    }\n",
       "</style>\n",
       "<table border=\"1\" class=\"dataframe\">\n",
       "  <thead>\n",
       "    <tr style=\"text-align: right;\">\n",
       "      <th></th>\n",
       "      <th>Mean_Acc1298_Mean_Mem40_Centroid</th>\n",
       "      <th>Mean_Acc1298_Mean_Mem40_Rolloff</th>\n",
       "      <th>Mean_Acc1298_Mean_Mem40_Flux</th>\n",
       "      <th>Mean_Acc1298_Mean_Mem40_MFCC_0</th>\n",
       "      <th>Mean_Acc1298_Mean_Mem40_MFCC_1</th>\n",
       "      <th>Mean_Acc1298_Mean_Mem40_MFCC_2</th>\n",
       "      <th>Mean_Acc1298_Mean_Mem40_MFCC_3</th>\n",
       "      <th>Mean_Acc1298_Mean_Mem40_MFCC_4</th>\n",
       "      <th>Mean_Acc1298_Mean_Mem40_MFCC_5</th>\n",
       "      <th>Mean_Acc1298_Mean_Mem40_MFCC_6</th>\n",
       "      <th>...</th>\n",
       "      <th>Std_Acc1298_Std_Mem40_MFCC_11</th>\n",
       "      <th>Std_Acc1298_Std_Mem40_MFCC_12</th>\n",
       "      <th>BH_LowPeakAmp</th>\n",
       "      <th>BH_LowPeakBPM</th>\n",
       "      <th>BH_HighPeakAmp</th>\n",
       "      <th>BH_HighPeakBPM</th>\n",
       "      <th>BH_HighLowRatio</th>\n",
       "      <th>BHSUM1</th>\n",
       "      <th>BHSUM2</th>\n",
       "      <th>BHSUM3</th>\n",
       "    </tr>\n",
       "  </thead>\n",
       "  <tbody>\n",
       "    <tr>\n",
       "      <th>0</th>\n",
       "      <td>0.034741</td>\n",
       "      <td>0.089665</td>\n",
       "      <td>0.091225</td>\n",
       "      <td>-73.302422</td>\n",
       "      <td>6.215179</td>\n",
       "      <td>0.615074</td>\n",
       "      <td>2.037160</td>\n",
       "      <td>0.804065</td>\n",
       "      <td>1.301409</td>\n",
       "      <td>0.558576</td>\n",
       "      <td>...</td>\n",
       "      <td>0.118630</td>\n",
       "      <td>0.094923</td>\n",
       "      <td>0.051035</td>\n",
       "      <td>68.0</td>\n",
       "      <td>0.014937</td>\n",
       "      <td>136.0</td>\n",
       "      <td>2.0</td>\n",
       "      <td>0.245457</td>\n",
       "      <td>0.105065</td>\n",
       "      <td>0.405399</td>\n",
       "    </tr>\n",
       "    <tr>\n",
       "      <th>1</th>\n",
       "      <td>0.081374</td>\n",
       "      <td>0.272747</td>\n",
       "      <td>0.085733</td>\n",
       "      <td>-62.584437</td>\n",
       "      <td>3.183163</td>\n",
       "      <td>-0.218145</td>\n",
       "      <td>0.163038</td>\n",
       "      <td>0.620251</td>\n",
       "      <td>0.458514</td>\n",
       "      <td>0.041426</td>\n",
       "      <td>...</td>\n",
       "      <td>0.070075</td>\n",
       "      <td>0.041565</td>\n",
       "      <td>0.295031</td>\n",
       "      <td>70.0</td>\n",
       "      <td>0.276366</td>\n",
       "      <td>140.0</td>\n",
       "      <td>2.0</td>\n",
       "      <td>0.343547</td>\n",
       "      <td>0.276366</td>\n",
       "      <td>0.710924</td>\n",
       "    </tr>\n",
       "    <tr>\n",
       "      <th>2</th>\n",
       "      <td>0.110545</td>\n",
       "      <td>0.273567</td>\n",
       "      <td>0.084410</td>\n",
       "      <td>-65.235325</td>\n",
       "      <td>2.794964</td>\n",
       "      <td>0.639047</td>\n",
       "      <td>1.281297</td>\n",
       "      <td>0.757896</td>\n",
       "      <td>0.489412</td>\n",
       "      <td>0.627636</td>\n",
       "      <td>...</td>\n",
       "      <td>0.079917</td>\n",
       "      <td>0.085821</td>\n",
       "      <td>0.161574</td>\n",
       "      <td>61.0</td>\n",
       "      <td>0.000000</td>\n",
       "      <td>183.0</td>\n",
       "      <td>3.0</td>\n",
       "      <td>0.188693</td>\n",
       "      <td>0.045941</td>\n",
       "      <td>0.457372</td>\n",
       "    </tr>\n",
       "    <tr>\n",
       "      <th>3</th>\n",
       "      <td>0.042481</td>\n",
       "      <td>0.199281</td>\n",
       "      <td>0.093447</td>\n",
       "      <td>-80.305152</td>\n",
       "      <td>5.824409</td>\n",
       "      <td>0.648848</td>\n",
       "      <td>1.754870</td>\n",
       "      <td>1.495532</td>\n",
       "      <td>0.739909</td>\n",
       "      <td>0.809644</td>\n",
       "      <td>...</td>\n",
       "      <td>0.129145</td>\n",
       "      <td>0.122330</td>\n",
       "      <td>0.043012</td>\n",
       "      <td>66.0</td>\n",
       "      <td>0.206562</td>\n",
       "      <td>132.0</td>\n",
       "      <td>2.0</td>\n",
       "      <td>0.102839</td>\n",
       "      <td>0.241934</td>\n",
       "      <td>0.351009</td>\n",
       "    </tr>\n",
       "    <tr>\n",
       "      <th>4</th>\n",
       "      <td>0.074550</td>\n",
       "      <td>0.140880</td>\n",
       "      <td>0.079789</td>\n",
       "      <td>-93.697749</td>\n",
       "      <td>5.543229</td>\n",
       "      <td>1.064262</td>\n",
       "      <td>0.899152</td>\n",
       "      <td>0.890336</td>\n",
       "      <td>0.702328</td>\n",
       "      <td>0.490685</td>\n",
       "      <td>...</td>\n",
       "      <td>0.284196</td>\n",
       "      <td>0.189988</td>\n",
       "      <td>0.029308</td>\n",
       "      <td>100.0</td>\n",
       "      <td>0.144039</td>\n",
       "      <td>200.0</td>\n",
       "      <td>2.0</td>\n",
       "      <td>0.195196</td>\n",
       "      <td>0.310801</td>\n",
       "      <td>0.683817</td>\n",
       "    </tr>\n",
       "  </tbody>\n",
       "</table>\n",
       "<p>5 rows × 72 columns</p>\n",
       "</div>"
      ],
      "text/plain": [
       "   Mean_Acc1298_Mean_Mem40_Centroid  Mean_Acc1298_Mean_Mem40_Rolloff  \\\n",
       "0                          0.034741                         0.089665   \n",
       "1                          0.081374                         0.272747   \n",
       "2                          0.110545                         0.273567   \n",
       "3                          0.042481                         0.199281   \n",
       "4                          0.074550                         0.140880   \n",
       "\n",
       "   Mean_Acc1298_Mean_Mem40_Flux  Mean_Acc1298_Mean_Mem40_MFCC_0  \\\n",
       "0                      0.091225                      -73.302422   \n",
       "1                      0.085733                      -62.584437   \n",
       "2                      0.084410                      -65.235325   \n",
       "3                      0.093447                      -80.305152   \n",
       "4                      0.079789                      -93.697749   \n",
       "\n",
       "   Mean_Acc1298_Mean_Mem40_MFCC_1  Mean_Acc1298_Mean_Mem40_MFCC_2  \\\n",
       "0                        6.215179                        0.615074   \n",
       "1                        3.183163                       -0.218145   \n",
       "2                        2.794964                        0.639047   \n",
       "3                        5.824409                        0.648848   \n",
       "4                        5.543229                        1.064262   \n",
       "\n",
       "   Mean_Acc1298_Mean_Mem40_MFCC_3  Mean_Acc1298_Mean_Mem40_MFCC_4  \\\n",
       "0                        2.037160                        0.804065   \n",
       "1                        0.163038                        0.620251   \n",
       "2                        1.281297                        0.757896   \n",
       "3                        1.754870                        1.495532   \n",
       "4                        0.899152                        0.890336   \n",
       "\n",
       "   Mean_Acc1298_Mean_Mem40_MFCC_5  Mean_Acc1298_Mean_Mem40_MFCC_6  ...  \\\n",
       "0                        1.301409                        0.558576  ...   \n",
       "1                        0.458514                        0.041426  ...   \n",
       "2                        0.489412                        0.627636  ...   \n",
       "3                        0.739909                        0.809644  ...   \n",
       "4                        0.702328                        0.490685  ...   \n",
       "\n",
       "   Std_Acc1298_Std_Mem40_MFCC_11  Std_Acc1298_Std_Mem40_MFCC_12  \\\n",
       "0                       0.118630                       0.094923   \n",
       "1                       0.070075                       0.041565   \n",
       "2                       0.079917                       0.085821   \n",
       "3                       0.129145                       0.122330   \n",
       "4                       0.284196                       0.189988   \n",
       "\n",
       "   BH_LowPeakAmp  BH_LowPeakBPM  BH_HighPeakAmp  BH_HighPeakBPM  \\\n",
       "0       0.051035           68.0        0.014937           136.0   \n",
       "1       0.295031           70.0        0.276366           140.0   \n",
       "2       0.161574           61.0        0.000000           183.0   \n",
       "3       0.043012           66.0        0.206562           132.0   \n",
       "4       0.029308          100.0        0.144039           200.0   \n",
       "\n",
       "   BH_HighLowRatio    BHSUM1    BHSUM2    BHSUM3  \n",
       "0              2.0  0.245457  0.105065  0.405399  \n",
       "1              2.0  0.343547  0.276366  0.710924  \n",
       "2              3.0  0.188693  0.045941  0.457372  \n",
       "3              2.0  0.102839  0.241934  0.351009  \n",
       "4              2.0  0.195196  0.310801  0.683817  \n",
       "\n",
       "[5 rows x 72 columns]"
      ]
     },
     "execution_count": 3,
     "metadata": {},
     "output_type": "execute_result"
    }
   ],
   "source": [
    "train_X_df = pd.DataFrame(X_train.toarray(),columns = [n for n,d in feature_names])\n",
    "train_X_df.head()"
   ]
  },
  {
   "cell_type": "code",
   "execution_count": 4,
   "metadata": {},
   "outputs": [
    {
     "data": {
      "text/html": [
       "<div>\n",
       "<style scoped>\n",
       "    .dataframe tbody tr th:only-of-type {\n",
       "        vertical-align: middle;\n",
       "    }\n",
       "\n",
       "    .dataframe tbody tr th {\n",
       "        vertical-align: top;\n",
       "    }\n",
       "\n",
       "    .dataframe thead th {\n",
       "        text-align: right;\n",
       "    }\n",
       "</style>\n",
       "<table border=\"1\" class=\"dataframe\">\n",
       "  <thead>\n",
       "    <tr style=\"text-align: right;\">\n",
       "      <th></th>\n",
       "      <th>amazed-suprised</th>\n",
       "      <th>happy-pleased</th>\n",
       "      <th>relaxing-calm</th>\n",
       "      <th>quiet-still</th>\n",
       "      <th>sad-lonely</th>\n",
       "      <th>angry-aggresive</th>\n",
       "    </tr>\n",
       "  </thead>\n",
       "  <tbody>\n",
       "    <tr>\n",
       "      <th>0</th>\n",
       "      <td>0</td>\n",
       "      <td>1</td>\n",
       "      <td>1</td>\n",
       "      <td>0</td>\n",
       "      <td>0</td>\n",
       "      <td>0</td>\n",
       "    </tr>\n",
       "    <tr>\n",
       "      <th>1</th>\n",
       "      <td>1</td>\n",
       "      <td>0</td>\n",
       "      <td>0</td>\n",
       "      <td>0</td>\n",
       "      <td>0</td>\n",
       "      <td>1</td>\n",
       "    </tr>\n",
       "    <tr>\n",
       "      <th>2</th>\n",
       "      <td>0</td>\n",
       "      <td>1</td>\n",
       "      <td>0</td>\n",
       "      <td>0</td>\n",
       "      <td>0</td>\n",
       "      <td>1</td>\n",
       "    </tr>\n",
       "    <tr>\n",
       "      <th>3</th>\n",
       "      <td>0</td>\n",
       "      <td>0</td>\n",
       "      <td>1</td>\n",
       "      <td>0</td>\n",
       "      <td>0</td>\n",
       "      <td>0</td>\n",
       "    </tr>\n",
       "    <tr>\n",
       "      <th>4</th>\n",
       "      <td>0</td>\n",
       "      <td>0</td>\n",
       "      <td>0</td>\n",
       "      <td>1</td>\n",
       "      <td>0</td>\n",
       "      <td>0</td>\n",
       "    </tr>\n",
       "    <tr>\n",
       "      <th>...</th>\n",
       "      <td>...</td>\n",
       "      <td>...</td>\n",
       "      <td>...</td>\n",
       "      <td>...</td>\n",
       "      <td>...</td>\n",
       "      <td>...</td>\n",
       "    </tr>\n",
       "    <tr>\n",
       "      <th>386</th>\n",
       "      <td>0</td>\n",
       "      <td>0</td>\n",
       "      <td>0</td>\n",
       "      <td>0</td>\n",
       "      <td>0</td>\n",
       "      <td>1</td>\n",
       "    </tr>\n",
       "    <tr>\n",
       "      <th>387</th>\n",
       "      <td>1</td>\n",
       "      <td>0</td>\n",
       "      <td>0</td>\n",
       "      <td>0</td>\n",
       "      <td>0</td>\n",
       "      <td>1</td>\n",
       "    </tr>\n",
       "    <tr>\n",
       "      <th>388</th>\n",
       "      <td>0</td>\n",
       "      <td>1</td>\n",
       "      <td>1</td>\n",
       "      <td>0</td>\n",
       "      <td>0</td>\n",
       "      <td>0</td>\n",
       "    </tr>\n",
       "    <tr>\n",
       "      <th>389</th>\n",
       "      <td>0</td>\n",
       "      <td>0</td>\n",
       "      <td>0</td>\n",
       "      <td>1</td>\n",
       "      <td>1</td>\n",
       "      <td>0</td>\n",
       "    </tr>\n",
       "    <tr>\n",
       "      <th>390</th>\n",
       "      <td>0</td>\n",
       "      <td>1</td>\n",
       "      <td>1</td>\n",
       "      <td>0</td>\n",
       "      <td>0</td>\n",
       "      <td>0</td>\n",
       "    </tr>\n",
       "  </tbody>\n",
       "</table>\n",
       "<p>391 rows × 6 columns</p>\n",
       "</div>"
      ],
      "text/plain": [
       "     amazed-suprised  happy-pleased  relaxing-calm  quiet-still  sad-lonely  \\\n",
       "0                  0              1              1            0           0   \n",
       "1                  1              0              0            0           0   \n",
       "2                  0              1              0            0           0   \n",
       "3                  0              0              1            0           0   \n",
       "4                  0              0              0            1           0   \n",
       "..               ...            ...            ...          ...         ...   \n",
       "386                0              0              0            0           0   \n",
       "387                1              0              0            0           0   \n",
       "388                0              1              1            0           0   \n",
       "389                0              0              0            1           1   \n",
       "390                0              1              1            0           0   \n",
       "\n",
       "     angry-aggresive  \n",
       "0                  0  \n",
       "1                  1  \n",
       "2                  1  \n",
       "3                  0  \n",
       "4                  0  \n",
       "..               ...  \n",
       "386                1  \n",
       "387                1  \n",
       "388                0  \n",
       "389                0  \n",
       "390                0  \n",
       "\n",
       "[391 rows x 6 columns]"
      ]
     },
     "execution_count": 4,
     "metadata": {},
     "output_type": "execute_result"
    }
   ],
   "source": [
    "train_y_df = pd.DataFrame(y_train.toarray(), columns = [l for l, v in label_names])\n",
    "train_y_df"
   ]
  },
  {
   "cell_type": "code",
   "execution_count": 5,
   "metadata": {},
   "outputs": [
    {
     "data": {
      "text/plain": [
       "[('amazed-suprised', ['0', '1']),\n",
       " ('happy-pleased', ['0', '1']),\n",
       " ('relaxing-calm', ['0', '1']),\n",
       " ('quiet-still', ['0', '1']),\n",
       " ('sad-lonely', ['0', '1']),\n",
       " ('angry-aggresive', ['0', '1'])]"
      ]
     },
     "execution_count": 5,
     "metadata": {},
     "output_type": "execute_result"
    }
   ],
   "source": [
    "label_names"
   ]
  },
  {
   "cell_type": "markdown",
   "metadata": {},
   "source": [
    "MFCC是音频处理的格式，，这个东西应该需要做一个音乐情绪的分类，72个列是从音频中提取的特征      \n",
    "可以把每个东西做成一个二分类，也可以softmax一下"
   ]
  },
  {
   "cell_type": "markdown",
   "metadata": {},
   "source": [
    "#### 一般思路 - scikit-learn\n",
    "\n",
    "1. 这个数据集给的东西都是sparse matrix, 需要转成一个numpy array\n",
    "2. 把这个问题当成一个多标签的问题，或者当成一个多分类的问题\n",
    "3. 分别使用多分类，和多标签处理这个问题，分类器都选择逻辑回归"
   ]
  },
  {
   "cell_type": "code",
   "execution_count": 6,
   "metadata": {},
   "outputs": [
    {
     "name": "stderr",
     "output_type": "stream",
     "text": [
      "C:\\ProgramData\\Anaconda3\\lib\\site-packages\\sklearn\\linear_model\\_logistic.py:940: ConvergenceWarning: lbfgs failed to converge (status=1):\n",
      "STOP: TOTAL NO. of ITERATIONS REACHED LIMIT.\n",
      "\n",
      "Increase the number of iterations (max_iter) or scale the data as shown in:\n",
      "    https://scikit-learn.org/stable/modules/preprocessing.html\n",
      "Please also refer to the documentation for alternative solver options:\n",
      "    https://scikit-learn.org/stable/modules/linear_model.html#logistic-regression\n",
      "  extra_warning_msg=_LOGISTIC_SOLVER_CONVERGENCE_MSG)\n"
     ]
    },
    {
     "name": "stdout",
     "output_type": "stream",
     "text": [
      "Softmax Accuracy = 0.5247524752475248\n",
      "OneVsRest Accuracy = 0.4504950495049505\n"
     ]
    }
   ],
   "source": [
    "from sklearn.linear_model import LogisticRegression\n",
    "from sklearn.multiclass import OneVsRestClassifier\n",
    "\n",
    "clf = LogisticRegression(max_iter= 2000)\n",
    "clf.fit(X_train.toarray() ,np.argmax(y_train.toarray(), axis = 1))\n",
    "acc = clf.score(X_test.toarray() ,np.argmax(y_test.toarray(), axis = 1))\n",
    "print('Softmax Accuracy = {}'.format(acc))\n",
    "\n",
    "\n",
    "clf = OneVsRestClassifier(LogisticRegression(max_iter= 2000)).fit(X_train, y_train)\n",
    "equals = np.argmax(clf.predict(X_test).toarray(), axis = 1) == np.argmax(y_test.toarray(), axis = 1)\n",
    "print('OneVsRest Accuracy = {}'.format(equals.mean()))"
   ]
  },
  {
   "cell_type": "code",
   "execution_count": 7,
   "metadata": {},
   "outputs": [
    {
     "data": {
      "text/plain": [
       "[LogisticRegression(C=1.0, class_weight=None, dual=False, fit_intercept=True,\n",
       "                    intercept_scaling=1, l1_ratio=None, max_iter=2000,\n",
       "                    multi_class='auto', n_jobs=None, penalty='l2',\n",
       "                    random_state=None, solver='lbfgs', tol=0.0001, verbose=0,\n",
       "                    warm_start=False),\n",
       " LogisticRegression(C=1.0, class_weight=None, dual=False, fit_intercept=True,\n",
       "                    intercept_scaling=1, l1_ratio=None, max_iter=2000,\n",
       "                    multi_class='auto', n_jobs=None, penalty='l2',\n",
       "                    random_state=None, solver='lbfgs', tol=0.0001, verbose=0,\n",
       "                    warm_start=False),\n",
       " LogisticRegression(C=1.0, class_weight=None, dual=False, fit_intercept=True,\n",
       "                    intercept_scaling=1, l1_ratio=None, max_iter=2000,\n",
       "                    multi_class='auto', n_jobs=None, penalty='l2',\n",
       "                    random_state=None, solver='lbfgs', tol=0.0001, verbose=0,\n",
       "                    warm_start=False),\n",
       " LogisticRegression(C=1.0, class_weight=None, dual=False, fit_intercept=True,\n",
       "                    intercept_scaling=1, l1_ratio=None, max_iter=2000,\n",
       "                    multi_class='auto', n_jobs=None, penalty='l2',\n",
       "                    random_state=None, solver='lbfgs', tol=0.0001, verbose=0,\n",
       "                    warm_start=False),\n",
       " LogisticRegression(C=1.0, class_weight=None, dual=False, fit_intercept=True,\n",
       "                    intercept_scaling=1, l1_ratio=None, max_iter=2000,\n",
       "                    multi_class='auto', n_jobs=None, penalty='l2',\n",
       "                    random_state=None, solver='lbfgs', tol=0.0001, verbose=0,\n",
       "                    warm_start=False),\n",
       " LogisticRegression(C=1.0, class_weight=None, dual=False, fit_intercept=True,\n",
       "                    intercept_scaling=1, l1_ratio=None, max_iter=2000,\n",
       "                    multi_class='auto', n_jobs=None, penalty='l2',\n",
       "                    random_state=None, solver='lbfgs', tol=0.0001, verbose=0,\n",
       "                    warm_start=False)]"
      ]
     },
     "execution_count": 7,
     "metadata": {},
     "output_type": "execute_result"
    }
   ],
   "source": [
    "clf.estimators_"
   ]
  },
  {
   "cell_type": "markdown",
   "metadata": {},
   "source": [
    "#### Multi-learn的思路 - 证明 - 无差别 OneVersusRest"
   ]
  },
  {
   "cell_type": "markdown",
   "metadata": {},
   "source": [
    "### Scikit - Multilearn"
   ]
  },
  {
   "cell_type": "code",
   "execution_count": 8,
   "metadata": {},
   "outputs": [],
   "source": [
    "from skmultilearn.problem_transform import BinaryRelevance"
   ]
  },
  {
   "cell_type": "markdown",
   "metadata": {},
   "source": [
    "我们选择完全相同的base预测器"
   ]
  },
  {
   "cell_type": "code",
   "execution_count": 9,
   "metadata": {},
   "outputs": [],
   "source": [
    "clf = BinaryRelevance(\n",
    "    classifier=LogisticRegression(max_iter = 2000),\n",
    "    require_dense=[False, True]\n",
    ")"
   ]
  },
  {
   "cell_type": "code",
   "execution_count": 10,
   "metadata": {},
   "outputs": [
    {
     "data": {
      "text/plain": [
       "BinaryRelevance(classifier=LogisticRegression(C=1.0, class_weight=None,\n",
       "                                              dual=False, fit_intercept=True,\n",
       "                                              intercept_scaling=1,\n",
       "                                              l1_ratio=None, max_iter=2000,\n",
       "                                              multi_class='auto', n_jobs=None,\n",
       "                                              penalty='l2', random_state=None,\n",
       "                                              solver='lbfgs', tol=0.0001,\n",
       "                                              verbose=0, warm_start=False),\n",
       "                require_dense=[False, True])"
      ]
     },
     "execution_count": 10,
     "metadata": {},
     "output_type": "execute_result"
    }
   ],
   "source": [
    "clf.fit(X_train, y_train)"
   ]
  },
  {
   "cell_type": "markdown",
   "metadata": {},
   "source": [
    "注意这个地方比官方文档上多出了一个下划线"
   ]
  },
  {
   "cell_type": "code",
   "execution_count": 11,
   "metadata": {},
   "outputs": [
    {
     "data": {
      "text/plain": [
       "[LogisticRegression(C=1.0, class_weight=None, dual=False, fit_intercept=True,\n",
       "                    intercept_scaling=1, l1_ratio=None, max_iter=2000,\n",
       "                    multi_class='auto', n_jobs=None, penalty='l2',\n",
       "                    random_state=None, solver='lbfgs', tol=0.0001, verbose=0,\n",
       "                    warm_start=False),\n",
       " LogisticRegression(C=1.0, class_weight=None, dual=False, fit_intercept=True,\n",
       "                    intercept_scaling=1, l1_ratio=None, max_iter=2000,\n",
       "                    multi_class='auto', n_jobs=None, penalty='l2',\n",
       "                    random_state=None, solver='lbfgs', tol=0.0001, verbose=0,\n",
       "                    warm_start=False),\n",
       " LogisticRegression(C=1.0, class_weight=None, dual=False, fit_intercept=True,\n",
       "                    intercept_scaling=1, l1_ratio=None, max_iter=2000,\n",
       "                    multi_class='auto', n_jobs=None, penalty='l2',\n",
       "                    random_state=None, solver='lbfgs', tol=0.0001, verbose=0,\n",
       "                    warm_start=False),\n",
       " LogisticRegression(C=1.0, class_weight=None, dual=False, fit_intercept=True,\n",
       "                    intercept_scaling=1, l1_ratio=None, max_iter=2000,\n",
       "                    multi_class='auto', n_jobs=None, penalty='l2',\n",
       "                    random_state=None, solver='lbfgs', tol=0.0001, verbose=0,\n",
       "                    warm_start=False),\n",
       " LogisticRegression(C=1.0, class_weight=None, dual=False, fit_intercept=True,\n",
       "                    intercept_scaling=1, l1_ratio=None, max_iter=2000,\n",
       "                    multi_class='auto', n_jobs=None, penalty='l2',\n",
       "                    random_state=None, solver='lbfgs', tol=0.0001, verbose=0,\n",
       "                    warm_start=False),\n",
       " LogisticRegression(C=1.0, class_weight=None, dual=False, fit_intercept=True,\n",
       "                    intercept_scaling=1, l1_ratio=None, max_iter=2000,\n",
       "                    multi_class='auto', n_jobs=None, penalty='l2',\n",
       "                    random_state=None, solver='lbfgs', tol=0.0001, verbose=0,\n",
       "                    warm_start=False)]"
      ]
     },
     "execution_count": 11,
     "metadata": {},
     "output_type": "execute_result"
    }
   ],
   "source": [
    "clf.classifiers_"
   ]
  },
  {
   "cell_type": "markdown",
   "metadata": {},
   "source": [
    "使用这个东西的时候，是吧这个问题当成了一个多标签的问题"
   ]
  },
  {
   "cell_type": "code",
   "execution_count": 12,
   "metadata": {},
   "outputs": [
    {
     "data": {
      "text/plain": [
       "0.4504950495049505"
      ]
     },
     "execution_count": 12,
     "metadata": {},
     "output_type": "execute_result"
    }
   ],
   "source": [
    "prediction = clf.predict(X_test)\n",
    "equals = np.argmax(clf.predict(X_test).toarray(), axis = 1) == np.argmax(y_test.toarray(), axis = 1)\n",
    "equals.mean()"
   ]
  },
  {
   "cell_type": "markdown",
   "metadata": {},
   "source": [
    "证明： BinaryRelevance只不过是在外面包裹了一个一对多的任务， 与Sklearn本身的OneVersusRestClassifier无差别      \n",
    "思考： 如果六个选1个的任务，softmax多香， 如果是多标签共存的话， 直接用OneVersusRestClassifier，少调用一个东西    "
   ]
  },
  {
   "cell_type": "markdown",
   "metadata": {},
   "source": [
    "#### 源码解析\n",
    "```python\n",
    "    \n",
    "    # 传进去一个classifier， 父类给初始化self.classifier\n",
    "    def __init__(self, classifier=None, require_dense=None):\n",
    "        super(BinaryRelevance, self).__init__(classifier, require_dense)\n",
    "        \n",
    "    # y 有多少列，就要弄出多少个partition\n",
    "    def _generate_partition(self, X, y):\n",
    "        \"\"\"Partitions the label space into singletons\n",
    "        Sets `self.partition_` (list of single item lists) and `self.model_count_` (equal to number of labels).\n",
    "        Parameters\n",
    "        ----------\n",
    "        X : `array_like`, :class:`numpy.matrix` or :mod:`scipy.sparse` matrix, shape=(n_samples, n_features)\n",
    "            not used, only for API compatibility\n",
    "        y : `array_like`, :class:`numpy.matrix` or :mod:`scipy.sparse` matrix of `int`, shape=(n_samples, n_labels)\n",
    "            binary indicator matrix with label assignments\n",
    "        \"\"\"\n",
    "        self.partition_ = list(range(y.shape[1]))\n",
    "        self.model_count_ = y.shape[1]\n",
    "        \n",
    "    def fit(self, X, y):\n",
    "        \"\"\"Fits classifier to training data\n",
    "        Parameters\n",
    "        ----------\n",
    "        X : `array_like`, :class:`numpy.matrix` or :mod:`scipy.sparse` matrix, shape=(n_samples, n_features)\n",
    "            input feature matrix\n",
    "        y : `array_like`, :class:`numpy.matrix` or :mod:`scipy.sparse` matrix of `{0, 1}`, shape=(n_samples, n_labels)\n",
    "            binary indicator matrix with label assignments\n",
    "        Returns\n",
    "        -------\n",
    "        self\n",
    "            fitted instance of self\n",
    "        Notes\n",
    "        -----\n",
    "        .. note :: Input matrices are converted to sparse format internally if a numpy representation is passed\n",
    "        \"\"\"\n",
    "        \n",
    "        # 稀疏矩阵格式转换\n",
    "        X = self._ensure_input_format(\n",
    "            X, sparse_format='csr', enforce_sparse=True)\n",
    "        y = self._ensure_output_format(\n",
    "            y, sparse_format='csc', enforce_sparse=True)\n",
    "        \n",
    "        # 把父类的self.classifier copy出很多份， 分别预测每个partition\n",
    "        # 把每个parition保存起来，分别预测y的每一列\n",
    "        self.classifiers_ = []\n",
    "        self._generate_partition(X, y)\n",
    "        self._label_count = y.shape[1]\n",
    "\n",
    "        for i in range(self.model_count_):\n",
    "            classifier = copy.deepcopy(self.classifier)\n",
    "            y_subset = self._generate_data_subset(y, self.partition_[i], axis=1)\n",
    "            if issparse(y_subset) and y_subset.ndim > 1 and y_subset.shape[1] == 1:\n",
    "                y_subset = np.ravel(y_subset.toarray())\n",
    "            classifier.fit(self._ensure_input_format(\n",
    "                X), self._ensure_output_format(y_subset))\n",
    "            self.classifiers_.append(classifier)\n",
    "\n",
    "        return self\n",
    "        \n",
    "     \n",
    "\n",
    "```"
   ]
  },
  {
   "cell_type": "markdown",
   "metadata": {},
   "source": [
    "**所以重点是： 写循环， 让多个预测器预测呗**"
   ]
  },
  {
   "cell_type": "markdown",
   "metadata": {},
   "source": [
    "### 东西还是要学的            \n",
    "\n",
    "Single - label:                  \n",
    "    你其实只有一个东西要学的，只要去预测一件事，就是single label          \n",
    "        - Binary： True or False              \n",
    "        - multi class： 预测一个汽车到底是什么品牌的（hint：一个汽车只有一个品牌）             \n",
    "        \n",
    "Multi - label:         \n",
    "    你同时要干很多事儿             \n",
    "        - 同时预测一个汽车的品牌 和 型号 multiclass classification + multiclass classification      \n",
    "        - 同时预测一个汽车的品牌 和 油耗 multiclass classification + regression           "
   ]
  },
  {
   "cell_type": "markdown",
   "metadata": {},
   "source": [
    "随便 from import 一下，找到了sklearn的这个东西，好吧，没用过，试试"
   ]
  },
  {
   "cell_type": "code",
   "execution_count": 13,
   "metadata": {},
   "outputs": [],
   "source": [
    "from sklearn.multioutput import MultiOutputClassifier"
   ]
  },
  {
   "cell_type": "code",
   "execution_count": 14,
   "metadata": {},
   "outputs": [
    {
     "data": {
      "text/plain": [
       "\u001b[1;31mInit signature:\u001b[0m \u001b[0mMultiOutputClassifier\u001b[0m\u001b[1;33m(\u001b[0m\u001b[0mestimator\u001b[0m\u001b[1;33m,\u001b[0m \u001b[0mn_jobs\u001b[0m\u001b[1;33m=\u001b[0m\u001b[1;32mNone\u001b[0m\u001b[1;33m)\u001b[0m\u001b[1;33m\u001b[0m\u001b[1;33m\u001b[0m\u001b[0m\n",
       "\u001b[1;31mDocstring:\u001b[0m     \n",
       "Multi target classification\n",
       "\n",
       "This strategy consists of fitting one classifier per target. This is a\n",
       "simple strategy for extending classifiers that do not natively support\n",
       "multi-target classification\n",
       "\n",
       "Parameters\n",
       "----------\n",
       "estimator : estimator object\n",
       "    An estimator object implementing :term:`fit`, :term:`score` and\n",
       "    :term:`predict_proba`.\n",
       "\n",
       "n_jobs : int or None, optional (default=None)\n",
       "    The number of jobs to use for the computation.\n",
       "    It does each target variable in y in parallel.\n",
       "    ``None`` means 1 unless in a :obj:`joblib.parallel_backend` context.\n",
       "    ``-1`` means using all processors. See :term:`Glossary <n_jobs>`\n",
       "    for more details.\n",
       "\n",
       "Attributes\n",
       "----------\n",
       "estimators_ : list of ``n_output`` estimators\n",
       "    Estimators used for predictions.\n",
       "\n",
       "Examples\n",
       "--------\n",
       ">>> import numpy as np\n",
       ">>> from sklearn.datasets import make_multilabel_classification\n",
       ">>> from sklearn.multioutput import MultiOutputClassifier\n",
       ">>> from sklearn.neighbors import KNeighborsClassifier\n",
       "\n",
       ">>> X, y = make_multilabel_classification(n_classes=3, random_state=0)\n",
       ">>> clf = MultiOutputClassifier(KNeighborsClassifier()).fit(X, y)\n",
       ">>> clf.predict(X[-2:])\n",
       "array([[1, 1, 0], [1, 1, 1]])\n",
       "\u001b[1;31mFile:\u001b[0m           c:\\programdata\\anaconda3\\lib\\site-packages\\sklearn\\multioutput.py\n",
       "\u001b[1;31mType:\u001b[0m           ABCMeta\n",
       "\u001b[1;31mSubclasses:\u001b[0m     \n"
      ]
     },
     "metadata": {},
     "output_type": "display_data"
    }
   ],
   "source": [
    "MultiOutputClassifier?"
   ]
  },
  {
   "cell_type": "code",
   "execution_count": 15,
   "metadata": {},
   "outputs": [],
   "source": [
    "from sklearn.datasets import make_multilabel_classification\n",
    "from sklearn.multioutput import MultiOutputClassifier\n",
    "from sklearn.model_selection import train_test_split\n",
    "from sklearn.neighbors import KNeighborsClassifier\n",
    "from sklearn.metrics import accuracy_score"
   ]
  },
  {
   "cell_type": "code",
   "execution_count": 16,
   "metadata": {},
   "outputs": [
    {
     "name": "stdout",
     "output_type": "stream",
     "text": [
      "X shape: (2000, 20), y shape: (2000, 6)\n",
      "Accuracy Score [MultiOutputClassifier]: 0.325\n"
     ]
    }
   ],
   "source": [
    "X, y = make_multilabel_classification(n_classes=6, random_state=0,n_samples = 2000)\n",
    "X_train,X_test, y_train, y_test = train_test_split(X,y, random_state = 42,test_size = 0.2)\n",
    "print('X shape: {}, y shape: {}'.format(X.shape, y.shape))\n",
    "clf = MultiOutputClassifier(KNeighborsClassifier()).fit(X_train, y_train)\n",
    "predictions = clf.predict(X_test)\n",
    "acc = accuracy_score(y_test, predictions)\n",
    "\n",
    "print('Accuracy Score [MultiOutputClassifier]: {}'.format(acc))"
   ]
  },
  {
   "cell_type": "markdown",
   "metadata": {},
   "source": [
    "y 只有0和1, 说明在所有的任务上，都是二分类问题"
   ]
  },
  {
   "cell_type": "markdown",
   "metadata": {},
   "source": [
    "**Question： 这个问题用OneVsRest能做么，试试**"
   ]
  },
  {
   "cell_type": "code",
   "execution_count": 17,
   "metadata": {},
   "outputs": [
    {
     "name": "stdout",
     "output_type": "stream",
     "text": [
      "OneVsRest Accuracy = 0.325\n"
     ]
    }
   ],
   "source": [
    "clf = OneVsRestClassifier(KNeighborsClassifier()).fit(X_train, y_train)\n",
    "acc = accuracy_score(y_test,clf.predict(X_test))\n",
    "print('OneVsRest Accuracy = {}'.format(acc))"
   ]
  },
  {
   "cell_type": "markdown",
   "metadata": {},
   "source": [
    "其实我们还应该去做一下二分类和分类问题同时进行时候，效果咋样"
   ]
  },
  {
   "cell_type": "markdown",
   "metadata": {},
   "source": [
    "证明：无差别"
   ]
  },
  {
   "cell_type": "markdown",
   "metadata": {},
   "source": [
    "### Model selection"
   ]
  },
  {
   "cell_type": "code",
   "execution_count": 18,
   "metadata": {},
   "outputs": [
    {
     "name": "stdout",
     "output_type": "stream",
     "text": [
      "emotions:train - exists, not redownloading\n",
      "emotions:test - exists, not redownloading\n"
     ]
    }
   ],
   "source": [
    "from skmultilearn.dataset import load_dataset\n",
    "X_train, y_train, feature_names, label_names = load_dataset('emotions', 'train')\n",
    "X_test, y_test, _, _ =load_dataset('emotions', 'test')"
   ]
  },
  {
   "cell_type": "code",
   "execution_count": 19,
   "metadata": {},
   "outputs": [
    {
     "data": {
      "text/plain": [
       "<391x72 sparse matrix of type '<class 'numpy.float64'>'\n",
       "\twith 28059 stored elements in List of Lists format>"
      ]
     },
     "execution_count": 19,
     "metadata": {},
     "output_type": "execute_result"
    }
   ],
   "source": [
    "X_train"
   ]
  },
  {
   "cell_type": "code",
   "execution_count": 20,
   "metadata": {},
   "outputs": [
    {
     "data": {
      "text/plain": [
       "<391x6 sparse matrix of type '<class 'numpy.int64'>'\n",
       "\twith 709 stored elements in List of Lists format>"
      ]
     },
     "execution_count": 20,
     "metadata": {},
     "output_type": "execute_result"
    }
   ],
   "source": [
    "y_train"
   ]
  },
  {
   "cell_type": "markdown",
   "metadata": {},
   "source": [
    "LOL 稀疏矩阵记录了每一行元素非零的位置， 和非零元素的值\n",
    "由于全都是binary，只需要知道有多少种label的组合，就可以了 "
   ]
  },
  {
   "cell_type": "code",
   "execution_count": 21,
   "metadata": {},
   "outputs": [
    {
     "data": {
      "text/plain": [
       "(26,)"
      ]
     },
     "execution_count": 21,
     "metadata": {},
     "output_type": "execute_result"
    }
   ],
   "source": [
    "np.unique(y_train.rows).shape\n",
    "\n",
    "# uncomment to view results\n",
    "# y_train.data\n",
    "# y_train.rows"
   ]
  },
  {
   "cell_type": "code",
   "execution_count": 22,
   "metadata": {},
   "outputs": [],
   "source": [
    "from skmultilearn.adapt import MLkNN\n",
    "import sklearn.metrics as metrics"
   ]
  },
  {
   "cell_type": "code",
   "execution_count": 23,
   "metadata": {},
   "outputs": [
    {
     "name": "stdout",
     "output_type": "stream",
     "text": [
      "Accuracy: 0.7046204620462044\n",
      "Loss: 0.2953795379537954\n"
     ]
    },
    {
     "name": "stderr",
     "output_type": "stream",
     "text": [
      "C:\\ProgramData\\Anaconda3\\lib\\site-packages\\ipykernel_launcher.py:3: SparseEfficiencyWarning: Comparing sparse matrices using == is inefficient, try using != instead.\n",
      "  This is separate from the ipykernel package so we can avoid doing imports until\n"
     ]
    }
   ],
   "source": [
    "classifier = MLkNN(k=3)\n",
    "classifier.fit(X_train, y_train)\n",
    "acc = (classifier.predict(X_test) == y_test).mean()\n",
    "print('Accuracy: {}'.format(acc))\n",
    "print('Loss: {}'.format(metrics.hamming_loss(y_test, classifier.predict(X_test))))"
   ]
  },
  {
   "cell_type": "code",
   "execution_count": 24,
   "metadata": {},
   "outputs": [
    {
     "name": "stderr",
     "output_type": "stream",
     "text": [
      "C:\\ProgramData\\Anaconda3\\lib\\site-packages\\IPython\\core\\interactiveshell.py:3331: SparseEfficiencyWarning: Comparing sparse matrices using == is inefficient, try using != instead.\n",
      "  exec(code_obj, self.user_global_ns, self.user_ns)\n"
     ]
    },
    {
     "name": "stdout",
     "output_type": "stream",
     "text": [
      "Accuracy: 0.7046204620462044\n",
      "Loss: 0.2953795379537954\n"
     ]
    }
   ],
   "source": [
    "clf = OneVsRestClassifier(KNeighborsClassifier(3))\n",
    "clf.fit(X_train, y_train)\n",
    "acc = (clf.predict(X_test) == y_test).mean()\n",
    "print('Accuracy: {}'.format(acc))\n",
    "print('Loss: {}'.format(metrics.hamming_loss(y_test, clf.predict(X_test))))"
   ]
  },
  {
   "cell_type": "markdown",
   "metadata": {},
   "source": [
    "<font color='darkred'><b>没啥必要用multilearn啊"
   ]
  },
  {
   "cell_type": "markdown",
   "metadata": {},
   "source": [
    "### Estimation:\n",
    "\n",
    "官方文档说可以集成sklearn的 GridSearchCV， thats all."
   ]
  },
  {
   "cell_type": "markdown",
   "metadata": {},
   "source": [
    "## 2. Advanced Usage\n",
    "\n",
    "Multi-label classification tends to have problems with <font color='darkred'><b>overfitting and underfitting classifiers when the label space is large<b></font>, especially in problem transformation approaches. A well known approach to remedy this is to <font color='darkred'><b>split the problem into subproblems with smaller label subsets<b></font> to improve the generalization quality.\n",
    "\n",
    "Scikit-multilearn library is the <font color='darkred'><b>first Python library to provide this functionality<b></font>, this will guide your through using different libraries for label space division.    \n",
    "    \n",
    "    \n",
    "通过标签空间的划分，把大问题分解成小问题， <font color='darkred'><b>前面的功能都是鸡肋，这儿才是重点"
   ]
  },
  {
   "cell_type": "markdown",
   "metadata": {},
   "source": [
    "### 2.1 标签空间的社群划分【图论相关】"
   ]
  },
  {
   "cell_type": "markdown",
   "metadata": {},
   "source": [
    "图论这个东西，先手写一把，明白一下原理"
   ]
  },
  {
   "cell_type": "code",
   "execution_count": 25,
   "metadata": {},
   "outputs": [
    {
     "name": "stdout",
     "output_type": "stream",
     "text": [
      "emotions:train - exists, not redownloading\n",
      "emotions:test - exists, not redownloading\n"
     ]
    }
   ],
   "source": [
    "from skmultilearn.dataset import load_dataset\n",
    "X_train, y_train, feature_names, label_names = load_dataset('emotions', 'train')\n",
    "X_test, y_test, _, _ = load_dataset('emotions', 'test')"
   ]
  },
  {
   "cell_type": "markdown",
   "metadata": {},
   "source": [
    "想要构建一个图， 图得节点是各个不同类型得标签，咱们先做个简单的，假设标签都是二分类         \n",
    "由于已经是一个LOL格式的稀疏矩阵， 我们可以免费获得一个共现表       \n",
    "如果不是LOL（其实叫LIL吧），转换一下格式在scipy也是很容易的   "
   ]
  },
  {
   "cell_type": "code",
   "execution_count": 26,
   "metadata": {},
   "outputs": [],
   "source": [
    "from itertools import combinations\n",
    "from collections import Counter\n",
    "import networkx as nx\n",
    "import matplotlib.pyplot as plt\n",
    "from scipy import sparse\n",
    "from IPython.core.pylabtools import figsize\n",
    "from sklearn.metrics.pairwise import cosine_similarity\n",
    "from scipy.cluster.hierarchy import linkage,dendrogram\n",
    "from scipy.cluster.hierarchy import fcluster\n",
    "from community import best_partition, modularity"
   ]
  },
  {
   "cell_type": "code",
   "execution_count": 27,
   "metadata": {},
   "outputs": [],
   "source": [
    "def make_label_graph(y_train, draw_graph = False):\n",
    "    \n",
    "    # ensure lil format sparse matrix\n",
    "    if not isinstance(y_train, sparse.lil.lil_matrix):\n",
    "        y_train = sparse.lil.lil_matrix(y_train)\n",
    "    \n",
    "    # get possible label combinations from sparse matrix\n",
    "    all_edges = {}\n",
    "    for l in y_train.rows:\n",
    "        if len(l) >1:\n",
    "            edges = [sorted(i) for i in list(combinations(l,2))]\n",
    "            for edge in edges:\n",
    "                e = tuple(edge)\n",
    "                all_edges[e] = all_edges.get(e,0) + 1\n",
    "    \n",
    "    edge_df = pd.DataFrame(list(all_edges.keys()), \n",
    "                           columns = ['source','target'])\n",
    "    \n",
    "    edge_df['weight'] = list(all_edges.values())\n",
    "    \n",
    "    # make a label graph and add attributes\n",
    "    G = nx.from_pandas_edgelist(edge_df,edge_attr = 'weight')\n",
    "    label_n = {i:n for i,(n,v) in enumerate(label_names)}\n",
    "    for n in G.nodes():\n",
    "        G.nodes[n]['label_name']  = label_n[n]\n",
    "    \n",
    "    # visualize a label graph\n",
    "    if draw_graph:\n",
    "        figsize(8,6)\n",
    "        pos = nx.spring_layout(G)\n",
    "        nx.draw_networkx_nodes(G, \n",
    "                pos = pos,\n",
    "                with_labels = True, \n",
    "                node_color = list(dict(G.degree(weight = 'weight')).values()),\n",
    "               node_size = 10*np.array(list(dict(G.degree(weight = 'weight')).values())),\n",
    "               cmap=plt.cm.Spectral)\n",
    "\n",
    "        nx.draw_networkx_edges(G, \n",
    "                pos = pos, width = [d['weight']/20 for u,v,d in G.edges(data = True)],\n",
    "               cmap=plt.cm.Spectral)\n",
    "        nx.draw_networkx_labels(G,pos,label_n)\n",
    "        plt.show()\n",
    "        \n",
    "    return G"
   ]
  },
  {
   "cell_type": "code",
   "execution_count": 28,
   "metadata": {},
   "outputs": [
    {
     "data": {
      "image/png": "[encoded data removed]",
      "text/plain": [
       "<Figure size 576x432 with 1 Axes>"
      ]
     },
     "metadata": {},
     "output_type": "display_data"
    }
   ],
   "source": [
    "G = make_label_graph(y_train,True)"
   ]
  },
  {
   "cell_type": "markdown",
   "metadata": {},
   "source": [
    "看起来这个图应该差不多的，某些类型的音乐可能在节奏上有一定的相似性吧           \n",
    "伤心孤独 - 安静静止     \n",
    "愤怒攻击性 - 惊讶惊喜    \n",
    "能够相互转换的标签之间，应当属于同一个社群   \n",
    "\n",
    "Randomwalk simulation +  hierachical clutering"
   ]
  },
  {
   "cell_type": "code",
   "execution_count": 29,
   "metadata": {},
   "outputs": [
    {
     "data": {
      "text/html": [
       "<div>\n",
       "<style scoped>\n",
       "    .dataframe tbody tr th:only-of-type {\n",
       "        vertical-align: middle;\n",
       "    }\n",
       "\n",
       "    .dataframe tbody tr th {\n",
       "        vertical-align: top;\n",
       "    }\n",
       "\n",
       "    .dataframe thead th {\n",
       "        text-align: right;\n",
       "    }\n",
       "</style>\n",
       "<table border=\"1\" class=\"dataframe\">\n",
       "  <thead>\n",
       "    <tr style=\"text-align: right;\">\n",
       "      <th></th>\n",
       "      <th>node</th>\n",
       "      <th>cluster</th>\n",
       "    </tr>\n",
       "  </thead>\n",
       "  <tbody>\n",
       "    <tr>\n",
       "      <th>0</th>\n",
       "      <td>1</td>\n",
       "      <td>0</td>\n",
       "    </tr>\n",
       "    <tr>\n",
       "      <th>1</th>\n",
       "      <td>2</td>\n",
       "      <td>1</td>\n",
       "    </tr>\n",
       "    <tr>\n",
       "      <th>2</th>\n",
       "      <td>0</td>\n",
       "      <td>0</td>\n",
       "    </tr>\n",
       "    <tr>\n",
       "      <th>3</th>\n",
       "      <td>5</td>\n",
       "      <td>0</td>\n",
       "    </tr>\n",
       "    <tr>\n",
       "      <th>4</th>\n",
       "      <td>3</td>\n",
       "      <td>1</td>\n",
       "    </tr>\n",
       "    <tr>\n",
       "      <th>5</th>\n",
       "      <td>4</td>\n",
       "      <td>1</td>\n",
       "    </tr>\n",
       "  </tbody>\n",
       "</table>\n",
       "</div>"
      ],
      "text/plain": [
       "   node  cluster\n",
       "0     1        0\n",
       "1     2        1\n",
       "2     0        0\n",
       "3     5        0\n",
       "4     3        1\n",
       "5     4        1"
      ]
     },
     "execution_count": 29,
     "metadata": {},
     "output_type": "execute_result"
    }
   ],
   "source": [
    "partition = best_partition(G)\n",
    "result = []\n",
    "for k,v in partition.items():\n",
    "    result.append([k,v])\n",
    "pd.DataFrame(result, columns = ['node','cluster'])"
   ]
  },
  {
   "cell_type": "markdown",
   "metadata": {},
   "source": [
    "然后就可以划分出社群了"
   ]
  },
  {
   "cell_type": "markdown",
   "metadata": {},
   "source": [
    "### 然后看看MultiLearn在搞什么幺蛾子吧"
   ]
  },
  {
   "cell_type": "code",
   "execution_count": 30,
   "metadata": {},
   "outputs": [],
   "source": [
    "from skmultilearn.cluster import LabelCooccurrenceGraphBuilder"
   ]
  },
  {
   "cell_type": "code",
   "execution_count": 34,
   "metadata": {},
   "outputs": [],
   "source": [
    "graph_builder = LabelCooccurrenceGraphBuilder(weighted=True, include_self_edges=False)\n",
    "edge_map = graph_builder.transform(y_train)"
   ]
  },
  {
   "cell_type": "code",
   "execution_count": 35,
   "metadata": {},
   "outputs": [
    {
     "data": {
      "text/plain": [
       "{(1, 2): 58.0,\n",
       " (0, 5): 61.0,\n",
       " (1, 5): 6.0,\n",
       " (0, 1): 33.0,\n",
       " (2, 3): 66.0,\n",
       " (2, 4): 60.0,\n",
       " (3, 4): 56.0,\n",
       " (4, 5): 9.0,\n",
       " (2, 5): 5.0,\n",
       " (0, 4): 4.0,\n",
       " (1, 4): 1.0,\n",
       " (0, 2): 9.0,\n",
       " (1, 3): 6.0,\n",
       " (3, 5): 2.0}"
      ]
     },
     "execution_count": 35,
     "metadata": {},
     "output_type": "execute_result"
    }
   ],
   "source": [
    "edge_map"
   ]
  },
  {
   "cell_type": "code",
   "execution_count": 40,
   "metadata": {},
   "outputs": [
    {
     "data": {
      "text/plain": [
       "{(1, 2): {'weight': 58},\n",
       " (1, 5): {'weight': 6},\n",
       " (1, 0): {'weight': 33},\n",
       " (1, 4): {'weight': 1},\n",
       " (1, 3): {'weight': 6},\n",
       " (2, 3): {'weight': 66},\n",
       " (2, 4): {'weight': 60},\n",
       " (2, 5): {'weight': 5},\n",
       " (2, 0): {'weight': 9},\n",
       " (0, 5): {'weight': 61},\n",
       " (0, 4): {'weight': 4},\n",
       " (5, 4): {'weight': 9},\n",
       " (5, 3): {'weight': 2},\n",
       " (3, 4): {'weight': 56}}"
      ]
     },
     "execution_count": 40,
     "metadata": {},
     "output_type": "execute_result"
    }
   ],
   "source": [
    "{(u,v):d for u,v,d in G.edges(data = True)}"
   ]
  },
  {
   "cell_type": "markdown",
   "metadata": {},
   "source": [
    "Build 出来的图和我们自己干出来的图是一样的"
   ]
  },
  {
   "cell_type": "markdown",
   "metadata": {},
   "source": [
    "### Graph clustering with Multi learn"
   ]
  },
  {
   "cell_type": "markdown",
   "metadata": {},
   "source": [
    "直接copy paste 代码，然后用它做标签聚类                \n",
    "注意传入的参数是鲁汶社群划分算法，和我们刚才自己的best_partition一样的，一模一样           "
   ]
  },
  {
   "cell_type": "code",
   "execution_count": 50,
   "metadata": {},
   "outputs": [
    {
     "data": {
      "text/plain": [
       "array([[0, 1, 5],\n",
       "       [2, 3, 4]])"
      ]
     },
     "execution_count": 50,
     "metadata": {},
     "output_type": "execute_result"
    }
   ],
   "source": [
    "from skmultilearn.cluster import NetworkXLabelGraphClusterer\n",
    "\n",
    "# 这个函数只有一个作用，就是把聚类出来的结果做成一个python的字典\n",
    "def to_membership_vector(partition):\n",
    "    return {\n",
    "        member :  partition_id\n",
    "        for partition_id, members in enumerate(partition)\n",
    "        for member in members\n",
    "    }\n",
    "\n",
    "clusterer = NetworkXLabelGraphClusterer(graph_builder, method='louvain')\n",
    "partition = clusterer.fit_predict(X_train,y_train)\n",
    "partition"
   ]
  },
  {
   "cell_type": "markdown",
   "metadata": {},
   "source": [
    "其实这个partition不重要，重要的是这个clusterer对象里面，有一个networkx的图"
   ]
  },
  {
   "cell_type": "code",
   "execution_count": 58,
   "metadata": {},
   "outputs": [
    {
     "data": {
      "text/plain": [
       "<networkx.classes.graph.Graph at 0x1f1ff7a5e08>"
      ]
     },
     "execution_count": 58,
     "metadata": {},
     "output_type": "execute_result"
    }
   ],
   "source": [
    "clusterer.graph_"
   ]
  },
  {
   "cell_type": "code",
   "execution_count": 51,
   "metadata": {},
   "outputs": [],
   "source": [
    "membership_vector = to_membership_vector(partition)"
   ]
  },
  {
   "cell_type": "code",
   "execution_count": 52,
   "metadata": {},
   "outputs": [
    {
     "data": {
      "text/plain": [
       "{0: 0, 1: 0, 5: 0, 2: 1, 3: 1, 4: 1}"
      ]
     },
     "execution_count": 52,
     "metadata": {},
     "output_type": "execute_result"
    }
   ],
   "source": [
    "membership_vector"
   ]
  },
  {
   "cell_type": "code",
   "execution_count": 54,
   "metadata": {},
   "outputs": [
    {
     "data": {
      "image/png": "[encoded data removed]",
      "text/plain": [
       "<Figure size 576x432 with 1 Axes>"
      ]
     },
     "metadata": {},
     "output_type": "display_data"
    }
   ],
   "source": [
    "import networkx as nx\n",
    "names_dict = dict(enumerate(x[0].replace('-','-\\n') for x in label_names))\n",
    "nx.draw(\n",
    "    clusterer.graph_,\n",
    "    pos=nx.circular_layout(clusterer.graph_),\n",
    "    labels=names_dict,\n",
    "    with_labels = True,\n",
    "    width = [10*x/y_train.shape[0] for x in clusterer.weights_['weight']],\n",
    "    node_color = [membership_vector[i] for i in range(y_train.shape[1])],\n",
    "    cmap=plt.cm.Spectral,\n",
    "    node_size=100,\n",
    "    font_size=14\n",
    ")"
   ]
  },
  {
   "cell_type": "markdown",
   "metadata": {},
   "source": [
    "到这儿我们其实手上就有一张标签图，存储在clusterer对象里面，下面我们其实要使用的就只有这个cluterer对象      \n",
    "\n",
    "<font color = 'darkred'><b>这儿， 一个朴素贝叶斯的分类器，被包裹了两次，这两个包裹的对象，都需要看一下"
   ]
  },
  {
   "cell_type": "code",
   "execution_count": 62,
   "metadata": {},
   "outputs": [
    {
     "data": {
      "text/plain": [
       "0.1782178217821782"
      ]
     },
     "execution_count": 62,
     "metadata": {},
     "output_type": "execute_result"
    }
   ],
   "source": [
    "from skmultilearn.ensemble import LabelSpacePartitioningClassifier\n",
    "from skmultilearn.problem_transform import LabelPowerset\n",
    "from sklearn.naive_bayes import GaussianNB\n",
    "from sklearn.metrics import accuracy_score\n",
    "\n",
    "classifier = LabelSpacePartitioningClassifier(\n",
    "    classifier = LabelPowerset(classifier=GaussianNB()),\n",
    "    clusterer = clusterer\n",
    ")\n",
    "\n",
    "classifier.fit(X_train, y_train)\n",
    "prediction = classifier.predict(X_test)\n",
    "\n",
    "accuracy_score(y_test, prediction)"
   ]
  },
  {
   "cell_type": "markdown",
   "metadata": {},
   "source": [
    "**第一层包裹： Label Powerset**\n",
    "\n",
    "将一个多标签的问题，转化为一个多分类的问题       \n",
    "多个标签就涉及到标签组合， 每一个特定的标签组合，作为一个分类，预测True 或 False      \n",
    "最后就是预测每个组合的是或否的多分类问题了                            \n",
    "\n",
    "```\n",
    "Transform multi-label problem to a multi-class problem\n",
    "\n",
    "Label Powerset is a problem transformation approach to multi-label classification that transforms a multi-label problem to a multi-class problem with 1 multi-class classifier trained on all unique label combinations found in the training data.\n",
    "\n",
    "The method maps each combination to a unique combination id number, and performs multi-class classification using the classifier as multi-class classifier and combination ids as classes.\n",
    "```\n",
    "\n",
    "```python\n",
    "[docs]    def transform(self, y):\n",
    "        \"\"\"Transform multi-label output space to multi-class\n",
    "\n",
    "        Transforms a mutli-label problem into a single-label multi-class\n",
    "        problem where each label combination is a separate class.\n",
    "\n",
    "        Parameters\n",
    "        -----------\n",
    "        y : `array_like`, :class:`numpy.matrix` or :mod:`scipy.sparse` matrix of `{0, 1}`, shape=(n_samples, n_labels)\n",
    "            binary indicator matrix with label assignments\n",
    "\n",
    "        Returns\n",
    "        -------\n",
    "        numpy.ndarray of `{0, ... , n_classes-1}`, shape=(n_samples,)\n",
    "            a multi-class output space vector\n",
    "\n",
    "        \"\"\"\n",
    "\n",
    "        y = self._ensure_output_format(\n",
    "            y, sparse_format='lil', enforce_sparse=True)\n",
    "\n",
    "        self._clean()\n",
    "        self._label_count = y.shape[1]\n",
    "\n",
    "        last_id = 0\n",
    "        train_vector = []\n",
    "        \n",
    "        # 这个地方循环y.rows的时候，就是在循环标签的组合，如果已经记录过，就不增加，否则增加一个标签组合\n",
    "        # 同时记录了某中标签组合第一次出现的id\n",
    "        for labels_applied in y.rows:\n",
    "            label_string = \",\".join(map(str, labels_applied))\n",
    "\n",
    "            if label_string not in self.unique_combinations_:\n",
    "                self.unique_combinations_[label_string] = last_id\n",
    "                self.reverse_combinations_.append(labels_applied)\n",
    "                last_id += 1\n",
    "\n",
    "            train_vector.append(self.unique_combinations_[label_string])\n",
    "\n",
    "        return np.array(train_vector)\n",
    "        # 到这儿就记录了一个multiclass的矩阵了\n",
    "```\n",
    "\n",
    "再然后你的fit就很简单了\n",
    "```python\n",
    "\n",
    "[docs]    def fit(self, X, y):\n",
    "        \"\"\"Fits classifier to training data\n",
    "\n",
    "        Parameters\n",
    "        ----------\n",
    "        X : `array_like`, :class:`numpy.matrix` or :mod:`scipy.sparse` matrix, shape=(n_samples, n_features)\n",
    "            input feature matrix\n",
    "        y : `array_like`, :class:`numpy.matrix` or :mod:`scipy.sparse` matrix of `{0, 1}`, shape=(n_samples, n_labels)\n",
    "            binary indicator matrix with label assignments\n",
    "\n",
    "        Returns\n",
    "        -------\n",
    "        self\n",
    "            fitted instance of self\n",
    "\n",
    "        Notes\n",
    "        -----\n",
    "        .. note :: Input matrices are converted to sparse format internally if a numpy representation is passed\n",
    "        \"\"\"\n",
    "        X = self._ensure_input_format(\n",
    "            X, sparse_format='csr', enforce_sparse=True)\n",
    "\n",
    "        self.classifier.fit(self._ensure_input_format(X),\n",
    "                            self.transform(y))\n",
    "\n",
    "        return self\n",
    "```"
   ]
  },
  {
   "cell_type": "markdown",
   "metadata": {},
   "source": [
    "**第二层包裹：标签空间分割预测器  LabelSpacePartitioningClassifier**    \n",
    "\n",
    "\n",
    "\n",
    "首先你发现这个东西是继承了BinaryRelevance了\n",
    "```python\n",
    "[docs]class LabelSpacePartitioningClassifier(BinaryRelevance):\n",
    "    \"\"\"Partition label space and classify each subspace separately\n",
    "\n",
    "\n",
    "    This classifier performs classification by:\n",
    "\n",
    "```\n",
    "\n",
    "然后发现再BinaryRelevance中有下面这个函数，这个相当于对一个多分类的任务，转化成很多二分类的任务 -OneVsRest\n",
    "这个就是按照y的列数，分割出很多的任务\n",
    "\n",
    "```python\n",
    "    def _generate_partition(self, X, y):\n",
    "        \"\"\"Partitions the label space into singletons\n",
    "\n",
    "        Sets `self.partition_` (list of single item lists) and `self.model_count_` (equal to number of labels).\n",
    "\n",
    "        Parameters\n",
    "        ----------\n",
    "        X : `array_like`, :class:`numpy.matrix` or :mod:`scipy.sparse` matrix, shape=(n_samples, n_features)\n",
    "            not used, only for API compatibility\n",
    "        y : `array_like`, :class:`numpy.matrix` or :mod:`scipy.sparse` matrix of `int`, shape=(n_samples, n_labels)\n",
    "            binary indicator matrix with label assignments\n",
    "        \"\"\"\n",
    "        self.partition_ = list(range(y.shape[1]))\n",
    "        self.model_count_ = y.shape[1]\n",
    "```\n",
    "\n",
    "然后再LabelSpacePartitioningClassifier， 有一个图预测器clusterer  \n",
    "\n",
    "\n",
    "```python\n",
    "   def __init__(self, classifier=None, clusterer=None, require_dense=None):\n",
    "        super(LabelSpacePartitioningClassifier, self).__init__(classifier, require_dense)\n",
    "        self.clusterer = clusterer\n",
    "        self.copyable_attrs = ['clusterer', 'classifier', 'require_dense']\n",
    "        \n",
    "这儿重写了父类的_generate_partition方法               \n",
    "意义是不按照y的列数分割子任务，按照相似标签组合聚类的个数，分割子任务                \n",
    "```python\n",
    "\n",
    "\n",
    "    def _generate_partition(self, X, y):\n",
    "        \"\"\"Cluster the label space\n",
    "\n",
    "        Saves the partiton generated by the clusterer to :code:`self.partition_` and\n",
    "        sets :code:`self.model_count_` to number of clusers and :code:`self._label_count`\n",
    "        to number of labels.\n",
    "\n",
    "        Parameters\n",
    "        -----------\n",
    "        X : numpy.ndarray or scipy.sparse\n",
    "            input features of shape :code:`(n_samples, n_features)`, passed to clusterer\n",
    "        y : numpy.ndarray or scipy.sparse\n",
    "            binary indicator matrix with label assigments of shape\n",
    "            :code:`(n_samples, n_labels)`\n",
    "\n",
    "        Returns\n",
    "        -------\n",
    "        LabelSpacePartitioningClassifier\n",
    "            returns an instance of itself\n",
    "        \"\"\"\n",
    "\n",
    "        self.partition_ = self.clusterer.fit_predict(X, y)\n",
    "        self.model_count_ = len(self.partition_)\n",
    "        self._label_count = y.shape[1]\n",
    "\n",
    "        return self\n",
    "    \n",
    "```"
   ]
  },
  {
   "cell_type": "markdown",
   "metadata": {},
   "source": [
    "### Multilearn的思想总结\n",
    "\n",
    "首先拿到一个多标签的任务                               \n",
    "找出相似的标签组合，聚类（图算法）  分成子任务         \n",
    "每个子任务，将多标签问题，转化成多分类问题               \n",
    "使用Base预测器进行预测"
   ]
  }
 ],
 "metadata": {
  "kernelspec": {
   "display_name": "Python 3",
   "language": "python",
   "name": "python3"
  },
  "language_info": {
   "codemirror_mode": {
    "name": "ipython",
    "version": 3
   },
   "file_extension": ".py",
   "mimetype": "text/x-python",
   "name": "python",
   "nbconvert_exporter": "python",
   "pygments_lexer": "ipython3",
   "version": "3.7.6"
  }
 },
 "nbformat": 4,
 "nbformat_minor": 4
}
